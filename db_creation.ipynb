{
 "cells": [
  {
   "cell_type": "code",
   "execution_count": 1,
   "metadata": {},
   "outputs": [],
   "source": [
    "import pandas as pd\n",
    "import numpy as np\n",
    "import matplotlib.pyplot as plt\n",
    "import plotly.graph_objects as go\n",
    "import gmplot\n",
    "from IPython.display import display\n",
    "from sqlalchemy import create_engine\n",
    "from JAK import apikey\n",
    "\n",
    "pd.options.display.max_rows = 101"
   ]
  },
  {
   "cell_type": "code",
   "execution_count": 2,
   "metadata": {},
   "outputs": [],
   "source": [
    "#     IMPORTS\n",
    "\n",
    "# read in data files for excess food\n",
    "food_services_df = pd.read_excel('assets/db/FoodServicesAllReporting.xlsx')\n",
    "public_facilities_df = pd.read_excel('assets/db/PublicFacilitiesAllReporting.xlsx')\n",
    "whsl_retail_manufacture_df = pd.read_excel('assets/db/WholesaleRetailManufacturersAllReporting.xlsx')\n",
    "receiving_food_df = pd.read_excel('assets/db/FoodBanksReceiving.xlsx')\n",
    "\n",
    "# read in data from Michael's API output\n",
    "michael_zip_codes_df = pd.read_csv('michael_mapping_hunger/jupyter_notebook/zip.csv')\n",
    "# michael_zip_codes_df['GEO_COORDINATES'] = list(zip(michael_zip_codes_df.Latitude, michael_zip_codes_df.Longitude))\n",
    "michael_zip_codes_df.rename(columns={'Zip':'ZIP_CODE', 'Latitude':'LAT', 'Longitude':'LONG'}, inplace=True)\n",
    "\n",
    "\n",
    "# create one base dataframe for excess food from the first four files\n",
    "frames = [food_services_df, public_facilities_df, whsl_retail_manufacture_df]\n",
    "food_output_df = pd.concat(frames)\n",
    "\n",
    "# create updated, merged dataframe from food_output and michael_zip_codes\n",
    "food_mapper_df = food_output_df.merge(michael_zip_codes_df, how='left', on='ZIP_CODE')"
   ]
  },
  {
   "cell_type": "code",
   "execution_count": 3,
   "metadata": {},
   "outputs": [],
   "source": [
    "#     DATAFRAME REVIEW\n",
    "\n",
    "# food_services_df.head()\n",
    "# public_facilities_df.head()\n",
    "# whsl_retail_manufacture_df.head()\n",
    "# receiving_food_df.head()\n",
    "# michael_zip_codes_df.head()\n",
    "# food_output_df.head()\n",
    "# food_output_df.count()\n",
    "# food_mapper_df.head()\n",
    "# food_mapper_df.count()"
   ]
  },
  {
   "cell_type": "code",
   "execution_count": 4,
   "metadata": {},
   "outputs": [],
   "source": [
    "#     DATA CLEANING\n",
    "\n",
    "# check for missing data in zip and lat/long columns\n",
    "nullsCOORD = food_mapper_df[food_mapper_df['LAT'].isnull()]\n",
    "missing_zips = list(nullsCOORD['ZIP_CODE'].unique())\n",
    "\n",
    "# create new dataframe with no null LAT/LONG/GEO_COORDS\n",
    "food_mapper_geo_df = food_mapper_df[~food_mapper_df['ZIP_CODE'].isin(missing_zips)]"
   ]
  },
  {
   "cell_type": "code",
   "execution_count": 5,
   "metadata": {},
   "outputs": [
    {
     "name": "stderr",
     "output_type": "stream",
     "text": [
      "C:\\ProgramData\\Anaconda3\\lib\\site-packages\\pandas\\core\\indexing.py:543: SettingWithCopyWarning:\n",
      "\n",
      "\n",
      "A value is trying to be set on a copy of a slice from a DataFrame.\n",
      "Try using .loc[row_indexer,col_indexer] = value instead\n",
      "\n",
      "See the caveats in the documentation: http://pandas.pydata.org/pandas-docs/stable/indexing.html#indexing-view-versus-copy\n",
      "\n",
      "C:\\ProgramData\\Anaconda3\\lib\\site-packages\\ipykernel_launcher.py:7: SettingWithCopyWarning:\n",
      "\n",
      "\n",
      "A value is trying to be set on a copy of a slice from a DataFrame.\n",
      "Try using .loc[row_indexer,col_indexer] = value instead\n",
      "\n",
      "See the caveats in the documentation: http://pandas.pydata.org/pandas-docs/stable/indexing.html#indexing-view-versus-copy\n",
      "\n",
      "C:\\ProgramData\\Anaconda3\\lib\\site-packages\\ipykernel_launcher.py:8: SettingWithCopyWarning:\n",
      "\n",
      "\n",
      "A value is trying to be set on a copy of a slice from a DataFrame.\n",
      "Try using .loc[row_indexer,col_indexer] = value instead\n",
      "\n",
      "See the caveats in the documentation: http://pandas.pydata.org/pandas-docs/stable/indexing.html#indexing-view-versus-copy\n",
      "\n",
      "C:\\ProgramData\\Anaconda3\\lib\\site-packages\\ipykernel_launcher.py:9: SettingWithCopyWarning:\n",
      "\n",
      "\n",
      "A value is trying to be set on a copy of a slice from a DataFrame.\n",
      "Try using .loc[row_indexer,col_indexer] = value instead\n",
      "\n",
      "See the caveats in the documentation: http://pandas.pydata.org/pandas-docs/stable/indexing.html#indexing-view-versus-copy\n",
      "\n",
      "C:\\ProgramData\\Anaconda3\\lib\\site-packages\\ipykernel_launcher.py:10: SettingWithCopyWarning:\n",
      "\n",
      "\n",
      "A value is trying to be set on a copy of a slice from a DataFrame.\n",
      "Try using .loc[row_indexer,col_indexer] = value instead\n",
      "\n",
      "See the caveats in the documentation: http://pandas.pydata.org/pandas-docs/stable/indexing.html#indexing-view-versus-copy\n",
      "\n",
      "C:\\ProgramData\\Anaconda3\\lib\\site-packages\\ipykernel_launcher.py:11: SettingWithCopyWarning:\n",
      "\n",
      "\n",
      "A value is trying to be set on a copy of a slice from a DataFrame.\n",
      "Try using .loc[row_indexer,col_indexer] = value instead\n",
      "\n",
      "See the caveats in the documentation: http://pandas.pydata.org/pandas-docs/stable/indexing.html#indexing-view-versus-copy\n",
      "\n",
      "C:\\ProgramData\\Anaconda3\\lib\\site-packages\\ipykernel_launcher.py:12: SettingWithCopyWarning:\n",
      "\n",
      "\n",
      "A value is trying to be set on a copy of a slice from a DataFrame.\n",
      "Try using .loc[row_indexer,col_indexer] = value instead\n",
      "\n",
      "See the caveats in the documentation: http://pandas.pydata.org/pandas-docs/stable/indexing.html#indexing-view-versus-copy\n",
      "\n",
      "C:\\ProgramData\\Anaconda3\\lib\\site-packages\\ipykernel_launcher.py:13: SettingWithCopyWarning:\n",
      "\n",
      "\n",
      "A value is trying to be set on a copy of a slice from a DataFrame.\n",
      "Try using .loc[row_indexer,col_indexer] = value instead\n",
      "\n",
      "See the caveats in the documentation: http://pandas.pydata.org/pandas-docs/stable/indexing.html#indexing-view-versus-copy\n",
      "\n"
     ]
    }
   ],
   "source": [
    "#     DATA CLEANING CONT - PROMPTS COPY WARNINGS [IGNORE]\n",
    "\n",
    "# strip hanging space on 'Full-Service Restaurants'\n",
    "naics = 'NAICS_CODE_DESCRIPTION'\n",
    "food_mapper_geo_df.loc[food_mapper_geo_df[naics]=='Full-Service Restaurants ', naics] = 'Full-Service Restaurants'\n",
    "# strip lead/trail space on specified columns (different method)\n",
    "food_mapper_geo_df['NAME'] = food_mapper_geo_df['NAME'].str.strip()\n",
    "food_mapper_geo_df['ADDRESS'] = food_mapper_geo_df['ADDRESS'].str.strip()\n",
    "food_mapper_geo_df['CITY'] = food_mapper_geo_df['CITY'].str.strip()\n",
    "food_mapper_geo_df['COUNTY'] = food_mapper_geo_df['COUNTY'].str.strip()\n",
    "food_mapper_geo_df['STATE'] = food_mapper_geo_df['STATE'].str.strip()\n",
    "food_mapper_geo_df['UNIQUEID'] = food_mapper_geo_df['UNIQUEID'].str.strip()\n",
    "food_mapper_geo_df['NAICS_CODE_DESCRIPTION'] = food_mapper_geo_df['NAICS_CODE_DESCRIPTION'].str.strip()"
   ]
  },
  {
   "cell_type": "code",
   "execution_count": 6,
   "metadata": {},
   "outputs": [],
   "source": [
    "#     EXPLORE CODE DESCRIPTIONS\n",
    "\n",
    "# len 79 with 3 types of schools = 76\n",
    "description_list = food_mapper_geo_df['NAICS_CODE_DESCRIPTION'].unique()\n",
    "description_df = pd.DataFrame(description_list).drop([13,14,15], axis=0).reset_index(drop=True)\n",
    "description_df.columns = ['NAICS_CODE_DESCRIPTION']\n",
    "# description_df"
   ]
  },
  {
   "cell_type": "code",
   "execution_count": 7,
   "metadata": {},
   "outputs": [],
   "source": [
    "#     EXPLORE CODES\n",
    "\n",
    "# len 77 with 1 school = 76\n",
    "code_list = food_mapper_geo_df['NAICS_CODE'].unique()\n",
    "codes_df = pd.DataFrame(code_list).drop([13], axis=0).reset_index(drop=True)\n",
    "codes_df.columns = ['NAICS_CODE']\n",
    "# codes_df"
   ]
  },
  {
   "cell_type": "code",
   "execution_count": 8,
   "metadata": {},
   "outputs": [],
   "source": [
    "#     PAIR DESCRIPTIONS WITH APPROPRIATE CODE FOR FILTERING DATA INTO SPECIFIC DATAFRAMES\n",
    "\n",
    "NAICSpairs = pd.concat([codes_df, description_df], axis=1)\n",
    "# NAICSpairs.sort_values('NAICS_CODE', inplace=True)\n",
    "NAICSpairs.sort_values('NAICS_CODE_DESCRIPTION', inplace=True)\n",
    "NAICSpairs.reset_index(drop=True, inplace=True)\n",
    "NAICS_kvp_list = NAICSpairs.to_dict('split')['data']\n",
    "# NAICSpairs"
   ]
  },
  {
   "cell_type": "markdown",
   "metadata": {},
   "source": [
    "#### NAICSpairs [NAICS code-NAICS description] being deleted from food_output_df:<br>\n",
    "311999 - All Other Miscellaneous Food Manufacturing<br>\n",
    "311313 - Beet Sugar Manufacturing<br>\n",
    "312120 - Breweries<br>\n",
    "311314 - Cane Sugar Manufacturing<br>\n",
    "311351 - Chocolate and Confectionery Manufacturing from Cacao Beans<br>\n",
    "311920 - Coffee and Tea Manufacturing<br>\n",
    "311352 - Confectionery Manufacturing from Purchased Chocolate<br>\n",
    "424450 - Confectionery Merchant Wholesalers<br>\n",
    "445292 - Confectionery and Nut Stores<br>\n",
    "312140 - Distilleries<br>\n",
    "311930 - Flavoring Syrup and Concentrate Manufacturing<br>\n",
    "311211 - Flour Milling<br>\n",
    "311520 - Ice Cream and Frozen Dessert Manufacturing<br>\n",
    "311213 - Malt Manufacturing<br>\n",
    "311340 - Nonchocolate Confectionery Manufacturing<br>\n",
    "311212 - Rice Milling<br>\n",
    "722515 - Snack and Nonalcoholic Beverage Bars<br>\n",
    "312111 - Soft Drink Manufacturing<br>\n",
    "311942 - Spice and Extract Manufacturing<br>\n",
    "311221 - Wet Corn Milling<br>\n",
    "312130 - Wineries<br>"
   ]
  },
  {
   "cell_type": "code",
   "execution_count": 9,
   "metadata": {
    "scrolled": true
   },
   "outputs": [],
   "source": [
    "#     FINAL_OUTPUT = CLEANED EXCESS PRODUCERS BY DROPPING NON-USABLE FOOD PRODUCTS\n",
    "\n",
    "drop_codes = ([311999,311313,312120,311314,311351,311920,311352,424450,445292,312140,311930,\n",
    "               311211,311520,311213,311340,311212,722515,312111,311942,311221,312130])\n",
    "final_output = food_mapper_geo_df[~food_mapper_geo_df['NAICS_CODE'].isin(drop_codes)]\n",
    "# final_output.head()\n",
    "# final_output.count()"
   ]
  },
  {
   "cell_type": "code",
   "execution_count": 10,
   "metadata": {},
   "outputs": [],
   "source": [
    "#     INDIVIDUAL DATAFRAMES (TABLES FOR .sqlite FILE)\n",
    "\n",
    "# pull ALL schools\n",
    "all_schools_df = final_output[final_output['NAICS_CODE']=='SCHOOL']\n",
    "\n",
    "# pull public schools\n",
    "public_schools_df = final_output[final_output['NAICS_CODE_DESCRIPTION']=='TYPE: Public Elementary & Secondary']\n",
    "\n",
    "# pull private schools\n",
    "private_schools_df = final_output[final_output['NAICS_CODE_DESCRIPTION']=='TYPE: Private Elementary & Secondary']\n",
    "\n",
    "# pull postsecondary schools\n",
    "postsecondary_schools_df = final_output[final_output['NAICS_CODE_DESCRIPTION']=='TYPE: Postsecondary']\n",
    "\n",
    "\n",
    "\n",
    "\n",
    "# pull correctional facilities\n",
    "corrections_df = final_output[final_output['UNIQUEID'].str.contains('COR')]\n",
    "\n",
    "\n",
    "\n",
    "\n",
    "# pull healthcare facilities & drop 'Specialty (except Psychiatric and Substance Abuse) Hospitals'\n",
    "healthcare_df = (final_output[final_output['UNIQUEID'].str.contains('HEA') \n",
    "                 & ~final_output['NAICS_CODE_DESCRIPTION'].str.contains('Specialty')])\n",
    "\n",
    "\n",
    "\n",
    "\n",
    "# pull restaurants/hotels/caterers/casinos [HOSPITALITY]\n",
    "restaurants_codes = [311811,722330,722511,722513,722514,721120,713210,722320,721110]\n",
    "restaurant_df = final_output[final_output['NAICS_CODE'].isin(restaurants_codes)]\n",
    "\n",
    "\n",
    "\n",
    "\n",
    "# pull grocery/market/wholesale/food clubs\n",
    "grocery_df = (final_output[final_output['NAICS_CODE_DESCRIPTION'].str.contains('Club', case=False) \n",
    "              | final_output['NAICS_CODE_DESCRIPTION'].str.contains('Market', case=False) \n",
    "              | final_output['NAICS_CODE_DESCRIPTION'].str.contains('Merchant', case=False)\n",
    "              | final_output['NAICS_CODE'].isin([445299,445291])])\n",
    "\n",
    "\n",
    "\n",
    "\n",
    "# pull manufacturers/producers/processers\n",
    "production_df = (final_output[final_output['NAICS_CODE_DESCRIPTION'].str.contains('Pro', case=False)\n",
    "                 | final_output['NAICS_CODE_DESCRIPTION'].str.contains('Canning', case=False) \n",
    "                 | final_output['NAICS_CODE_DESCRIPTION'].str.contains('Commercial', case=False) \n",
    "                 | final_output['NAICS_CODE_DESCRIPTION'].str.contains('Manufactur', case=False) \n",
    "                 | final_output['NAICS_CODE_DESCRIPTION'].str.contains('Refining', case=False)                            \n",
    "                 | final_output['NAICS_CODE_DESCRIPTION'].str.contains('Slaughter', case=False)])\n",
    "production_df = production_df[~production_df['NAICS_CODE_DESCRIPTION'].str.contains('Merchant', case=False)]"
   ]
  },
  {
   "cell_type": "code",
   "execution_count": 11,
   "metadata": {},
   "outputs": [],
   "source": [
    "#     DATAFRAME REVIEW\n",
    "# all_schools_df.head()\n",
    "# public_schools_df.head()\n",
    "# private_schools_df.head()\n",
    "# postsecondary_schools_df.head()\n",
    "# corrections_df.head()\n",
    "# healthcare_df.head()\n",
    "# restaurant_df.head()\n",
    "# grocery_df.head()\n",
    "# production_df.head()"
   ]
  },
  {
   "cell_type": "code",
   "execution_count": 12,
   "metadata": {},
   "outputs": [],
   "source": [
    "#     INDIVIDUAL DATAFRAMES (TABLES FOR .sqlite FILE) CONT.\n",
    "\n",
    "# table for occurrences of each zip code\n",
    "producer_occurrence_by_zip_df = final_output['ZIP_CODE'].value_counts().reset_index()\n",
    "producer_occurrence_by_zip_df.rename(columns={\"index\":\"ZIP_CODE\", \"ZIP_CODE\":\"OUTPUT_PARTNERS\"}, inplace=True)\n",
    "\n",
    "# total excess food produced by zip, ordered by descending EXCESSFOOD_TONYEAR_LOWEST sum\n",
    "excessfood_summary_by_zip = (final_output.groupby('ZIP_CODE')\n",
    "                         ['EXCESSFOOD_TONYEAR_LOWEST', 'EXCESSFOOD_TONYEAR_HIGHEST']\n",
    "                         .sum().sort_values('EXCESSFOOD_TONYEAR_LOWEST', ascending=False))\n",
    "# top 3 of that only\n",
    "low_excessfood_by_zipcode = (final_output.groupby('ZIP_CODE')\n",
    "                         ['EXCESSFOOD_TONYEAR_LOWEST', 'EXCESSFOOD_TONYEAR_HIGHEST']\n",
    "                         .sum().sort_values('EXCESSFOOD_TONYEAR_LOWEST', ascending=False)\n",
    "                         .nlargest(3, 'EXCESSFOOD_TONYEAR_LOWEST'))\n",
    "\n",
    "# total excess food produced by zip, ordered by descending EXCESSFOOD_TONYEAR_HIGHEST sum\n",
    "high_excessfood_by_zipcode = (final_output.groupby('ZIP_CODE')\n",
    "                         ['EXCESSFOOD_TONYEAR_LOWEST', 'EXCESSFOOD_TONYEAR_HIGHEST']\n",
    "                         .sum().sort_values('EXCESSFOOD_TONYEAR_HIGHEST', ascending=False)\n",
    "                         .nlargest(3, 'EXCESSFOOD_TONYEAR_HIGHEST'))\n",
    "\n",
    "# total excess food produced by business type, ordered by descending EXCESSFOOD_TONYEAR_LOWEST sum\n",
    "low_excess_by_naics_desc = (final_output.groupby('NAICS_CODE_DESCRIPTION')\n",
    "                        ['EXCESSFOOD_TONYEAR_LOWEST', 'EXCESSFOOD_TONYEAR_HIGHEST']\n",
    "                        .sum().round(2).sort_values('EXCESSFOOD_TONYEAR_LOWEST', ascending=False)\n",
    "                        .nlargest(3, 'EXCESSFOOD_TONYEAR_LOWEST'))\n",
    "\n",
    "# total excess food produced by business type, ordered by descending EXCESSFOOD_TONYEAR_LOWEST sum\n",
    "high_excess_by_naics_desc = (final_output.groupby('NAICS_CODE_DESCRIPTION')\n",
    "                        ['EXCESSFOOD_TONYEAR_LOWEST', 'EXCESSFOOD_TONYEAR_HIGHEST']\n",
    "                        .sum().round(2).sort_values('EXCESSFOOD_TONYEAR_HIGHEST', ascending=False)\n",
    "                        .nlargest(3, 'EXCESSFOOD_TONYEAR_HIGHEST'))"
   ]
  },
  {
   "cell_type": "code",
   "execution_count": 13,
   "metadata": {},
   "outputs": [],
   "source": [
    "# need to eliminate 125k points for rendering the map on gmaps...\n",
    "# doing this by dropping the bottom zip code occurrences until I get to near 125k total occurences...\n",
    "\n",
    "gmap_drop_zips = producer_occurrence_by_zip_df[producer_occurrence_by_zip_df['OUTPUT_PARTNERS']<=24]\n",
    "gmap_zips_drop_list = list(gmap_drop_zips['ZIP_CODE'].unique())\n",
    "final_heatmap_df = food_mapper_geo_df[~food_mapper_geo_df['ZIP_CODE'].isin(gmap_zips_drop_list)]"
   ]
  },
  {
   "cell_type": "code",
   "execution_count": 14,
   "metadata": {},
   "outputs": [],
   "source": [
    "#     DATAFRAME REVIEW\n",
    "# producer_occurrence_by_zip_df\n",
    "# excessfood_summary_by_zip\n",
    "# low_excessfood_by_zipcode\n",
    "# high_excessfood_by_zipcode\n",
    "# low_excess_by_naics_desc\n",
    "# high_excess_by_naics_desc"
   ]
  },
  {
   "cell_type": "code",
   "execution_count": 15,
   "metadata": {},
   "outputs": [],
   "source": [
    "#     BUILD OUT DATABASE CONNECTION AND WORK TOOLS\n",
    "\n",
    "# path to sqlite\n",
    "food_database_path = \"assets/db/excess_food.sqlite\"\n",
    "# set engine for communication with the database\n",
    "engine = create_engine(f\"sqlite:///{food_database_path}\", echo=False)\n",
    "# create connection\n",
    "conn = engine.connect()"
   ]
  },
  {
   "cell_type": "code",
   "execution_count": 16,
   "metadata": {},
   "outputs": [],
   "source": [
    "#     SEND ALL DATAFRAMES TO THE .sqlite FILE\n",
    "\n",
    "all_schools_df.to_sql('all_schools', conn, if_exists=\"replace\")\n",
    "public_schools_df.to_sql('public_schools', conn, if_exists=\"replace\")\n",
    "private_schools_df.to_sql('private_schools', conn, if_exists=\"replace\")\n",
    "postsecondary_schools_df.to_sql('postsecondary_schools', conn, if_exists=\"replace\")\n",
    "corrections_df.to_sql('corrections', conn, if_exists=\"replace\")\n",
    "healthcare_df.to_sql('healthcare', conn, if_exists=\"replace\")\n",
    "restaurant_df.to_sql('restaurant', conn, if_exists=\"replace\")\n",
    "grocery_df.to_sql('grocery', conn, if_exists=\"replace\")\n",
    "production_df.to_sql('production', conn, if_exists=\"replace\")\n",
    "producer_occurrence_by_zip_df.to_sql('producer_occurrence_by_zip_df', conn, if_exists=\"replace\")\n",
    "excessfood_summary_by_zip.to_sql('excessfood_summary_by_zip', conn, if_exists=\"replace\")\n",
    "low_excessfood_by_zipcode.to_sql('low_excessfood_by_zipcode', conn, if_exists=\"replace\")\n",
    "high_excessfood_by_zipcode.to_sql('high_excessfood_by_zipcode', conn, if_exists=\"replace\")\n",
    "low_excess_by_naics_desc.to_sql('low_excess_by_naics_desc', conn, if_exists=\"replace\")\n",
    "high_excess_by_naics_desc.to_sql('high_excess_by_naics_desc', conn, if_exists=\"replace\")"
   ]
  },
  {
   "cell_type": "code",
   "execution_count": 17,
   "metadata": {},
   "outputs": [],
   "source": [
    "producer_occurrence_by_zip_df = producer_occurrence_by_zip_df.merge(michael_zip_codes_df, on='ZIP_CODE')\n",
    "# producer_occurrence_by_zip_df"
   ]
  },
  {
   "cell_type": "code",
   "execution_count": 18,
   "metadata": {},
   "outputs": [],
   "source": [
    "excessfood_summary_by_zip = excessfood_summary_by_zip.merge(michael_zip_codes_df, on='ZIP_CODE')\n",
    "# excessfood_summary_by_zip"
   ]
  },
  {
   "cell_type": "markdown",
   "metadata": {},
   "source": [
    "<br><br><br><br><br>\n",
    "# MISCELLANEOUS QUERY TESTS\n",
    "<br><br><br><br><br>"
   ]
  },
  {
   "cell_type": "code",
   "execution_count": 19,
   "metadata": {},
   "outputs": [],
   "source": [
    "# query All records in the an example table\n",
    "\n",
    "data = engine.execute(\"SELECT * FROM high_excessfood_by_zipcode\")\n",
    "# for record in data:\n",
    "#     print(record)"
   ]
  },
  {
   "cell_type": "code",
   "execution_count": 20,
   "metadata": {},
   "outputs": [],
   "source": [
    "# read an example table from the new sqlite db into a pandas df\n",
    "\n",
    "data = pd.read_sql(\"SELECT * FROM low_excess_by_naics_desc\", conn)\n",
    "# data"
   ]
  },
  {
   "cell_type": "code",
   "execution_count": 21,
   "metadata": {},
   "outputs": [],
   "source": [
    "#     CLOSE CONNECTION TO DATABASE\n",
    "\n",
    "conn.close()"
   ]
  },
  {
   "cell_type": "markdown",
   "metadata": {},
   "source": [
    "<br><br><br><br><br>\n",
    "# MISCELLANEOUS STATIC ADD-ON IMAGES FOR LANDING PAGE\n",
    "<br><br><br><br><br>"
   ]
  },
  {
   "cell_type": "code",
   "execution_count": 22,
   "metadata": {},
   "outputs": [
    {
     "data": {
      "image/png": "[encoded data removed]",
      "text/plain": [
       "<Figure size 432x288 with 1 Axes>"
      ]
     },
     "metadata": {},
     "output_type": "display_data"
    }
   ],
   "source": [
    "# TOP 3 EXCESS COMBINED V ALL OTHER ZIPS\n",
    "\n",
    "low1 = low_excessfood_by_zipcode.iat[0,0]\n",
    "low2 = low_excessfood_by_zipcode.iat[1,0]\n",
    "low3 = low_excessfood_by_zipcode.iat[2,0]\n",
    "\n",
    "fig1, ax1 = plt.subplots()\n",
    "ax1.pie([(low1+low2+low3), ((final_output['EXCESSFOOD_TONYEAR_LOWEST'].sum())-low1-low2-low3)], \n",
    "        labels=['Top 3 Zip Codes', 'All Others'], \n",
    "        explode = [.1,0], \n",
    "        colors=['#feb24c','#2b8cbe'], \n",
    "        autopct='%1.1f%%',\n",
    "        shadow=True, \n",
    "        startangle=60)\n",
    "ax1.set(aspect='equal', title='Excess Food Production [Annual Lows]')\n",
    "plt.savefig('assets/images/top3vALL.jpg')\n",
    "# plt.show()"
   ]
  },
  {
   "cell_type": "code",
   "execution_count": 23,
   "metadata": {},
   "outputs": [
    {
     "data": {
      "image/png": "[encoded data removed]",
      "text/plain": [
       "<Figure size 432x288 with 1 Axes>"
      ]
     },
     "metadata": {},
     "output_type": "display_data"
    }
   ],
   "source": [
    "# TOP 3 EXCESS\n",
    "\n",
    "fig2, ax2 = plt.subplots()\n",
    "ax2.pie(low_excessfood_by_zipcode['EXCESSFOOD_TONYEAR_LOWEST'], \n",
    "        labels=['Zip: 85031', 'Zip: 91748', 'Zip: 22603'], \n",
    "        explode =[.1,0,0], \n",
    "        colors=['#f03b20', '#feb24c', '#ffeda0'], \n",
    "        autopct='%1.1f%%',\n",
    "        shadow=True, \n",
    "        startangle=60)\n",
    "ax2.set(aspect='equal',title = 'Excess Food Production of Top 3 Zip Codes')\n",
    "plt.savefig('assets/images/top3breakdown.jpg')\n",
    "# plt.show()"
   ]
  },
  {
   "cell_type": "code",
   "execution_count": 24,
   "metadata": {},
   "outputs": [
    {
     "data": {
      "image/png": "[encoded data removed]",
      "text/plain": [
       "<Figure size 432x288 with 1 Axes>"
      ]
     },
     "metadata": {},
     "output_type": "display_data"
    }
   ],
   "source": [
    "# TOP 10 EXCESS COMBINED V ALL OTHER ZIPS\n",
    "\n",
    "top_10_low_zip = (final_output.groupby('ZIP_CODE')\n",
    "                         ['EXCESSFOOD_TONYEAR_LOWEST', 'EXCESSFOOD_TONYEAR_HIGHEST']\n",
    "                         .sum().sort_values('EXCESSFOOD_TONYEAR_LOWEST', ascending=False)\n",
    "                         .nlargest(10, 'EXCESSFOOD_TONYEAR_LOWEST'))\n",
    "\n",
    "\n",
    "test_list = []\n",
    "for cell in top_10_low_zip['EXCESSFOOD_TONYEAR_LOWEST']: test_list.append(cell)\n",
    "test_list.append((final_output['EXCESSFOOD_TONYEAR_LOWEST'].sum())-(top_10_low_zip['EXCESSFOOD_TONYEAR_LOWEST'].sum()))\n",
    "\n",
    "\n",
    "fig3, ax3 = plt.subplots()\n",
    "ax3.pie(([top_10_low_zip['EXCESSFOOD_TONYEAR_LOWEST'].sum(), \n",
    "        ((final_output['EXCESSFOOD_TONYEAR_LOWEST'].sum())\n",
    "         -top_10_low_zip['EXCESSFOOD_TONYEAR_LOWEST'].sum())]), \n",
    "        labels=['Top 10 Zip Codes', 'All Others'], \n",
    "        explode = [.1,0], \n",
    "        colors=['#feb24c','#2b8cbe'], \n",
    "        autopct='%1.1f%%',\n",
    "        shadow=True, \n",
    "        startangle=60)\n",
    "ax3.set(aspect='equal',title = 'Excess Food Production [Annual Lows]')\n",
    "plt.savefig('assets/images/top10vALL.jpg')\n",
    "# plt.show()"
   ]
  },
  {
   "cell_type": "code",
   "execution_count": 25,
   "metadata": {},
   "outputs": [
    {
     "data": {
      "image/png": "[encoded data removed]",
      "text/plain": [
       "<Figure size 432x288 with 1 Axes>"
      ]
     },
     "metadata": {},
     "output_type": "display_data"
    }
   ],
   "source": [
    "# TOP 10 EXCESS\n",
    "\n",
    "labels_top10_low = (['Zip: 85031', 'Zip: 91748', 'Zip: 22603', 'Zip: 92591', 'Zip: 90058', \n",
    "                     'Zip: 60642', 'Zip: 94577', 'Zip: 60609', 'Zip: 89109', 'Zip: 60410'])\n",
    "explode_top10_low = [.1,0,0,0,0,0,0,0,0,0]\n",
    "colors_top10_low = ['#800026', '#bd0026', '#e31a1c', '#fc4e2a', '#fd8d3c', \n",
    "                    '#feb24c', '#fed976', '#ffeda0', '#ffffcc', '#fcfce3']\n",
    "\n",
    "fig4, ax4 = plt.subplots()\n",
    "ax4.pie(top_10_low_zip['EXCESSFOOD_TONYEAR_LOWEST'], \n",
    "        labels=labels_top10_low, \n",
    "        explode = explode_top10_low, \n",
    "        colors=colors_top10_low, \n",
    "        autopct='%1.1f%%',\n",
    "        shadow=True, \n",
    "        startangle=60)\n",
    "ax4.set(aspect='equal',title = 'Excess Food Production of Top 3 Zip Codes')\n",
    "plt.savefig('assets/images/top10breakdown.jpg')\n",
    "# plt.show()"
   ]
  },
  {
   "cell_type": "code",
   "execution_count": 26,
   "metadata": {},
   "outputs": [],
   "source": [
    "# HEATMAP OF WHERE PRODUCERS OF EXCESS FOOD ARE LOCATED IN THE US\n",
    "\n",
    "excess_lats = final_heatmap_df['LAT']\n",
    "excess_longs = final_heatmap_df['LONG']\n",
    "\n",
    "\n",
    "producer_count_map = gmplot.GoogleMapPlotter(37.84318581, -96.03933156, 4.5)\n",
    "producer_count_map.apikey = apikey\n",
    "\n",
    "producer_count_map.heatmap(excess_lats, excess_longs)\n",
    "\n",
    "producer_count_map.draw(\"assets/links/my_map.html\")"
   ]
  }
 ],
 "metadata": {
  "kernelspec": {
   "display_name": "Python 3",
   "language": "python",
   "name": "python3"
  },
  "language_info": {
   "codemirror_mode": {
    "name": "ipython",
    "version": 3
   },
   "file_extension": ".py",
   "mimetype": "text/x-python",
   "name": "python",
   "nbconvert_exporter": "python",
   "pygments_lexer": "ipython3",
   "version": "3.7.3"
  },
  "varInspector": {
   "cols": {
    "lenName": 16,
    "lenType": 16,
    "lenVar": 40
   },
   "kernels_config": {
    "python": {
     "delete_cmd_postfix": "",
     "delete_cmd_prefix": "del ",
     "library": "var_list.py",
     "varRefreshCmd": "print(var_dic_list())"
    },
    "r": {
     "delete_cmd_postfix": ") ",
     "delete_cmd_prefix": "rm(",
     "library": "var_list.r",
     "varRefreshCmd": "cat(var_dic_list()) "
    }
   },
   "types_to_exclude": [
    "module",
    "function",
    "builtin_function_or_method",
    "instance",
    "_Feature"
   ],
   "window_display": false
  }
 },
 "nbformat": 4,
 "nbformat_minor": 2
}
