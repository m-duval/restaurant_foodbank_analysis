{
 "cells": [
  {
   "cell_type": "code",
   "execution_count": 1,
   "metadata": {},
   "outputs": [],
   "source": [
    "from itertools import chain, repeat\n",
    "\n",
    "import csv"
   ]
  },
  {
   "cell_type": "code",
   "execution_count": null,
   "metadata": {},
   "outputs": [],
   "source": [
    "latandlon = open(\"daffodils.csv\", \"a+\")"
   ]
  },
  {
   "cell_type": "code",
   "execution_count": null,
   "metadata": {},
   "outputs": [],
   "source": [
    "coords = list(hunger.csv)\n",
    "\n",
    "def cycle(iterable, n):\n",
    "    \n",
    "    return chain.from_iterable(repeat(iterable, n))\n",
    "\n",
    "latandlon = [?]\n",
    "\n",
    "n = [?]\n",
    "\n",
    "for i in cycle(latandlon, n):\n",
    "    \n",
    "    i = 0\n",
    "    \n",
    "    while i < n:\n",
    "        \n",
    "        print(i)\n",
    "        \n",
    "        i += 1\n",
    "        \n",
    "        print(i)"
   ]
  }
 ],
 "metadata": {
  "kernelspec": {
   "display_name": "Python 3",
   "language": "python",
   "name": "python3"
  },
  "language_info": {
   "codemirror_mode": {
    "name": "ipython",
    "version": 3
   },
   "file_extension": ".py",
   "mimetype": "text/x-python",
   "name": "python",
   "nbconvert_exporter": "python",
   "pygments_lexer": "ipython3",
   "version": "3.6.8"
  }
 },
 "nbformat": 4,
 "nbformat_minor": 2
}
